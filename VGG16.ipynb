{
  "nbformat": 4,
  "nbformat_minor": 0,
  "metadata": {
    "colab": {
      "provenance": [],
      "gpuType": "T4"
    },
    "kernelspec": {
      "name": "python3",
      "display_name": "Python 3"
    },
    "language_info": {
      "name": "python"
    },
    "accelerator": "GPU"
  },
  "cells": [
    {
      "cell_type": "code",
      "execution_count": null,
      "metadata": {
        "id": "LQdg4GVDUpId"
      },
      "outputs": [],
      "source": [
        "import tensorflow as tf\n",
        "from tensorflow.keras import layers, models\n",
        "from tensorflow.keras.datasets import mnist\n",
        "from sklearn.model_selection import train_test_split"
      ]
    },
    {
      "cell_type": "code",
      "source": [
        "class DataLoader:\n",
        "  @staticmethod\n",
        "  def load_data():\n",
        "    (x_train, y_train), (x_test, y_test) = mnist.load_data()\n",
        "    x_train, x_val, y_train, y_val = train_test_split(x_train, y_train, test_size=0.2, random_state = 42)\n",
        "    return x_train, y_train, x_val, y_val, x_test, y_test"
      ],
      "metadata": {
        "id": "-IbsIxumU9Ho"
      },
      "execution_count": null,
      "outputs": []
    },
    {
      "cell_type": "code",
      "source": [
        "class DataPreprocessor:\n",
        "  @staticmethod\n",
        "  def preprocess_data(x_train, x_val, x_test):\n",
        "    x_train = x_train.reshape((-1, 28, 28, 1)).astype('float32') / 255.0\n",
        "    x_val = x_val.reshape((-1, 28, 28, 1)).astype('float32') / 255.0\n",
        "    x_test = x_test.reshape((-1, 28, 28, 1)).astype('float32') / 255.0\n",
        "    return x_train, x_val, x_test"
      ],
      "metadata": {
        "id": "PJjGUMhLVtqN"
      },
      "execution_count": null,
      "outputs": []
    },
    {
      "cell_type": "code",
      "source": [
        "class ModelBuilder:\n",
        "  @staticmethod\n",
        "  def build_model(input_shape, num_classes):\n",
        "    model = models.Sequential()\n",
        "\n",
        "    # Block 1\n",
        "    model.add(layers.Conv2D(64, (3, 3), activation='relu', input_shape=input_shape, padding='same'))\n",
        "    model.add(layers.Conv2D(64, (3, 3), activation='relu', padding='same'))\n",
        "    model.add(layers.MaxPooling2D((2,2), strides=(2, 2)))\n",
        "\n",
        "    # Block 2\n",
        "    model.add(layers.Conv2D(128, (3, 3), activation='relu', padding='same'))\n",
        "    model.add(layers.Conv2D(128, (3, 3), activation='relu', padding='same'))\n",
        "    model.add(layers.MaxPooling2D((2, 2), strides=(2, 2)))\n",
        "\n",
        "    # Block 3\n",
        "    model.add(layers.Conv2D(256, (3, 3), activation = 'relu', padding='same'))\n",
        "    model.add(layers.Conv2D(256, (3, 3), activation = 'relu', padding='same'))\n",
        "    model.add(layers.Conv2D(256, (3, 3), activation = 'relu', padding='same'))\n",
        "    model.add(layers.MaxPooling2D((2, 2), strides=(2, 2)))\n",
        "\n",
        "    # Fully Connected Layers\n",
        "    model.add(layers.Flatten())\n",
        "    model.add(layers.Dense(4096, activation = 'relu'))\n",
        "    model.add(layers.Dropout(0.5))\n",
        "    model.add(layers.Dense(4096, activation='relu'))\n",
        "    model.add(layers.Dropout(0.5))\n",
        "    model.add(layers.Dense(num_classes, activation='softmax'))\n",
        "\n",
        "    return model"
      ],
      "metadata": {
        "id": "t7aPTm3NYPAO"
      },
      "execution_count": null,
      "outputs": []
    },
    {
      "cell_type": "code",
      "source": [
        "class Trainer:\n",
        "    def __init__(self, model, optimizer, loss_function, metrics):\n",
        "        self.model = model\n",
        "        self.model.compile(optimizer=optimizer, loss=loss_function, metrics=metrics)\n",
        "\n",
        "    def train_model(self, x_train, y_train, x_val, y_val, epochs, batch_size, validation_data):\n",
        "        history = self.model.fit(x_train, y_train, epochs=epochs, batch_size=batch_size,\n",
        "                                 validation_data=(x_val, y_val), verbose=2)\n",
        "        return history"
      ],
      "metadata": {
        "id": "p4MFwdHfd4zO"
      },
      "execution_count": null,
      "outputs": []
    },
    {
      "cell_type": "code",
      "source": [
        "def main():\n",
        "    x_train, y_train, x_val, y_val, x_test, y_test = DataLoader.load_data()\n",
        "    x_train, x_val, x_test = DataPreprocessor.preprocess_data(x_train, x_val, x_test)\n",
        "\n",
        "    input_shape = x_train.shape[1:]\n",
        "    num_classes = 10\n",
        "\n",
        "    model = ModelBuilder.build_model(input_shape, num_classes)\n",
        "\n",
        "    optimizer = 'adam'\n",
        "    loss_function = 'sparse_categorical_crossentropy'\n",
        "    metrics = ['accuracy']\n",
        "\n",
        "    trainer = Trainer(model, optimizer, loss_function, metrics)\n",
        "\n",
        "    epochs = 5\n",
        "    batch_size = 32\n",
        "\n",
        "    history = trainer.train_model(x_train, y_train, x_val, y_val, epochs, batch_size, validation_data=(x_val, y_val))\n",
        "\n",
        "    test_loss, test_accuracy = model.evaluate(x_test, y_test, verbose=2)\n",
        "    print(f'Test Accuracy: {test_accuracy * 100:.2f}%')"
      ],
      "metadata": {
        "id": "M9_rJBPJe5qP"
      },
      "execution_count": null,
      "outputs": []
    },
    {
      "cell_type": "code",
      "source": [
        "if __name__ == \"__main__\":\n",
        "    # Check if GPU is available and being used\n",
        "    physical_devices = tf.config.list_physical_devices('GPU')\n",
        "    if len(physical_devices) == 0:\n",
        "        print(\"No GPU devices available. Training on CPU.\")\n",
        "    else:\n",
        "        tf.config.experimental.set_memory_growth(physical_devices[0], True)\n",
        "        print(f\"GPU {physical_devices[0]} is available. Training on GPU.\")\n",
        "\n",
        "    main()"
      ],
      "metadata": {
        "colab": {
          "base_uri": "https://localhost:8080/"
        },
        "id": "PTucF-Pu7rXJ",
        "outputId": "8361dac8-df8e-4c80-df88-e7c9d58d5b54"
      },
      "execution_count": null,
      "outputs": [
        {
          "output_type": "stream",
          "name": "stdout",
          "text": [
            "GPU PhysicalDevice(name='/physical_device:GPU:0', device_type='GPU') is available. Training on GPU.\n",
            "Downloading data from https://storage.googleapis.com/tensorflow/tf-keras-datasets/mnist.npz\n",
            "11490434/11490434 [==============================] - 1s 0us/step\n",
            "Epoch 1/5\n",
            "1500/1500 - 39s - loss: 0.4424 - accuracy: 0.8433 - val_loss: 0.0663 - val_accuracy: 0.9812 - 39s/epoch - 26ms/step\n",
            "Epoch 2/5\n",
            "1500/1500 - 25s - loss: 0.0782 - accuracy: 0.9786 - val_loss: 0.0477 - val_accuracy: 0.9857 - 25s/epoch - 17ms/step\n",
            "Epoch 3/5\n",
            "1500/1500 - 24s - loss: 0.0643 - accuracy: 0.9831 - val_loss: 0.0588 - val_accuracy: 0.9843 - 24s/epoch - 16ms/step\n",
            "Epoch 4/5\n",
            "1500/1500 - 24s - loss: 0.0621 - accuracy: 0.9844 - val_loss: 0.0492 - val_accuracy: 0.9869 - 24s/epoch - 16ms/step\n",
            "Epoch 5/5\n",
            "1500/1500 - 23s - loss: 0.0561 - accuracy: 0.9857 - val_loss: 0.0411 - val_accuracy: 0.9895 - 23s/epoch - 15ms/step\n",
            "313/313 - 2s - loss: 0.0426 - accuracy: 0.9884 - 2s/epoch - 5ms/step\n",
            "Test Accuracy: 98.84%\n"
          ]
        }
      ]
    }
  ]
}